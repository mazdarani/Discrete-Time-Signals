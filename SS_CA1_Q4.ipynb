{
  "nbformat": 4,
  "nbformat_minor": 0,
  "metadata": {
    "colab": {
      "name": "SS_CA1_Q4.ipynb",
      "provenance": [],
      "collapsed_sections": []
    },
    "kernelspec": {
      "name": "python3",
      "display_name": "Python 3"
    },
    "language_info": {
      "name": "python"
    }
  },
  "cells": [
    {
      "cell_type": "code",
      "metadata": {
        "id": "7glkCRWLmUu0"
      },
      "source": [
        "from scipy import signal\n",
        "import numpy as np\n",
        "import matplotlib.pyplot as plt"
      ],
      "execution_count": null,
      "outputs": []
    },
    {
      "cell_type": "code",
      "metadata": {
        "id": "6M-emy6zu_8I"
      },
      "source": [
        "N = 20"
      ],
      "execution_count": 22,
      "outputs": []
    },
    {
      "cell_type": "code",
      "metadata": {
        "id": "t0ru2UdAn6O8"
      },
      "source": [
        "def conv(x, h):\n",
        "  for n in range(0, N+1):\n",
        "    temp = 0\n",
        "    for k in range(0, N+1):\n",
        "      if (n-k)>-(N/2) and (n-k)<(N/2):\n",
        "        temp += x[k]*h[n - k + int(N/2)]\n",
        "    y.append(temp)\n",
        "  return y"
      ],
      "execution_count": 23,
      "outputs": []
    },
    {
      "cell_type": "code",
      "metadata": {
        "id": "zS0W5h43uwQj"
      },
      "source": [
        "def imp(n):\n",
        "  if n==0:\n",
        "    return 1\n",
        "  return 0\n",
        "\n",
        "def u(n):\n",
        "  if n>=0:\n",
        "    return 1\n",
        "  return 0"
      ],
      "execution_count": 37,
      "outputs": []
    },
    {
      "cell_type": "code",
      "metadata": {
        "id": "bFpm10NnAjPS"
      },
      "source": [
        "h = []\n",
        "for i in range(-int(N/2), int(N/2)+1):\n",
        "  if i>=0:\n",
        "    h.append(1/2**i)\n",
        "  else:\n",
        "    h.append(0)"
      ],
      "execution_count": 24,
      "outputs": []
    },
    {
      "cell_type": "code",
      "metadata": {
        "id": "nA4MzsjPBEpt"
      },
      "source": [
        "x = []\n",
        "for i in range(-int(N/2), int(N/2)+1):\n",
        "  if i>=0 and i<=4:\n",
        "    x.append(1)\n",
        "  else:\n",
        "    x.append(0)"
      ],
      "execution_count": 25,
      "outputs": []
    },
    {
      "cell_type": "code",
      "metadata": {
        "id": "eofPZfwxBOc6"
      },
      "source": [
        "y = []\n",
        "y = conv(x, h)"
      ],
      "execution_count": 26,
      "outputs": []
    },
    {
      "cell_type": "code",
      "metadata": {
        "colab": {
          "base_uri": "https://localhost:8080/",
          "height": 280
        },
        "id": "RHNnIMnlB8Y8",
        "outputId": "ea352b08-90f8-4c4d-d2eb-1e6b7df701d0"
      },
      "source": [
        "plt.stem(np.arange(-int(N/2), int(N/2)+1), y, use_line_collection=True)\n",
        "plt.grid(True)\n",
        "plt.title('y[n]')\n",
        "plt.show()"
      ],
      "execution_count": 27,
      "outputs": [
        {
          "output_type": "display_data",
          "data": {
            "image/png": "[encoded data removed]",
            "text/plain": [
              "<Figure size 432x288 with 1 Axes>"
            ]
          },
          "metadata": {
            "needs_background": "light"
          }
        }
      ]
    },
    {
      "cell_type": "code",
      "metadata": {
        "colab": {
          "base_uri": "https://localhost:8080/",
          "height": 296
        },
        "id": "-4HXeuhgCcFu",
        "outputId": "6556b0e6-c609-44ad-eda3-6f666b31e8f4"
      },
      "source": [
        "fig, axes = plt.subplots(nrows=3,ncols=1)\n",
        "\n",
        "axes[0].stem(np.arange(-int(N/2), int(N/2)+1), x, use_line_collection=True)\n",
        "axes[0].grid(True)\n",
        "axes[1].stem(np.arange(-int(N/2), int(N/2)+1), h, use_line_collection=True)\n",
        "axes[1].grid(True)\n",
        "axes[2].stem(np.arange(-int(N/2), int(N/2)+1), y, use_line_collection=True)\n",
        "axes[2].grid(True)\n",
        "plt.tight_layout()"
      ],
      "execution_count": 30,
      "outputs": [
        {
          "output_type": "display_data",
          "data": {
            "image/png": "[encoded data removed]",
            "text/plain": [
              "<Figure size 432x288 with 3 Axes>"
            ]
          },
          "metadata": {
            "needs_background": "light"
          }
        }
      ]
    },
    {
      "cell_type": "code",
      "metadata": {
        "colab": {
          "base_uri": "https://localhost:8080/",
          "height": 265
        },
        "id": "QGn4zKwjDGMj",
        "outputId": "46191dd4-5a3b-434b-c106-35be559d87c1"
      },
      "source": [
        "y2=signal.convolve(x,h)\n",
        "plt.stem(np.arange(-int(N), int(N)+1), y2, use_line_collection=True)\n",
        "plt.grid(True)"
      ],
      "execution_count": 32,
      "outputs": [
        {
          "output_type": "display_data",
          "data": {
            "image/png": "[encoded data removed]",
            "text/plain": [
              "<Figure size 432x288 with 1 Axes>"
            ]
          },
          "metadata": {
            "needs_background": "light"
          }
        }
      ]
    },
    {
      "cell_type": "markdown",
      "metadata": {
        "id": "0jPihS6kVB59"
      },
      "source": [
        "# 1."
      ]
    },
    {
      "cell_type": "code",
      "metadata": {
        "id": "RRBgcD6gVGRy"
      },
      "source": [
        "a = 2"
      ],
      "execution_count": 54,
      "outputs": []
    },
    {
      "cell_type": "code",
      "metadata": {
        "id": "FlE0mTh5xKZ6"
      },
      "source": [
        "vals = np.linspace(-10,10,100)\n",
        "x = []\n",
        "h = []\n",
        "for t in vals:\n",
        "  x.append(((np.e) ** (-1*a*t))*u(t))\n",
        "  h.append(u(t))"
      ],
      "execution_count": 60,
      "outputs": []
    },
    {
      "cell_type": "code",
      "metadata": {
        "colab": {
          "base_uri": "https://localhost:8080/",
          "height": 264
        },
        "id": "GjHuwD08ZX2L",
        "outputId": "30fa79d1-71ac-4976-f821-5d2e9e9f2705"
      },
      "source": [
        "y1 = signal.convolve(x, h, mode='same')\n",
        "y2 = np.convolve(x, h, mode='same')\n",
        "plt.plot(vals, y2)\n",
        "plt.plot(vals, y1)\n",
        "plt.grid(True)"
      ],
      "execution_count": 66,
      "outputs": [
        {
          "output_type": "display_data",
          "data": {
            "image/png": "[encoded data removed]",
            "text/plain": [
              "<Figure size 432x288 with 1 Axes>"
            ]
          },
          "metadata": {
            "needs_background": "light"
          }
        }
      ]
    },
    {
      "cell_type": "markdown",
      "metadata": {
        "id": "nZPaA_Yfa_hX"
      },
      "source": [
        "# 2."
      ]
    },
    {
      "cell_type": "code",
      "metadata": {
        "colab": {
          "base_uri": "https://localhost:8080/"
        },
        "id": "w13j9lBya-jB",
        "outputId": "2872d317-9aca-4188-9ce7-4e9f3a6a0871"
      },
      "source": [
        "x = 0\n",
        "np.piecewise(x, [x<-2,-2<=x<=-1,-1<x<1,1<=x<=2,x>2], [0,lambda x: 2+x,1,lambda x: 2-x,0])"
      ],
      "execution_count": 72,
      "outputs": [
        {
          "output_type": "execute_result",
          "data": {
            "text/plain": [
              "array(1)"
            ]
          },
          "metadata": {},
          "execution_count": 72
        }
      ]
    },
    {
      "cell_type": "markdown",
      "metadata": {
        "id": "FRO5jFBvcHfV"
      },
      "source": [
        "# 3."
      ]
    },
    {
      "cell_type": "code",
      "metadata": {
        "id": "dk1ivzBUcJ_M"
      },
      "source": [
        ""
      ],
      "execution_count": null,
      "outputs": []
    }
  ]
}